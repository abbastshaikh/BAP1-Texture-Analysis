{
 "cells": [
  {
   "attachments": {},
   "cell_type": "markdown",
   "metadata": {},
   "source": [
    "Import Libraries"
   ]
  },
  {
   "cell_type": "code",
   "execution_count": 1,
   "metadata": {},
   "outputs": [],
   "source": [
    "# Import libraries\n",
    "import os\n",
    "import pydicom as dicom\n",
    "import pandas as pd\n",
    "from tabulate import tabulate\n",
    "import matplotlib as plt\n",
    "from matplotlib import figure, pyplot\n",
    "from statistics import median, mean\n",
    "import numpy as np\n",
    "import SimpleITK as sitk\n",
    "import csv\n",
    "import seaborn as sns\n",
    "import scipy"
   ]
  },
  {
   "attachments": {},
   "cell_type": "markdown",
   "metadata": {},
   "source": [
    "Define paths"
   ]
  },
  {
   "cell_type": "code",
   "execution_count": 2,
   "metadata": {},
   "outputs": [],
   "source": [
    "# Define path to data (images and probability maps)\n",
    "dataPath = \"/Users/ilanadeutsch/Desktop/TextureAnalysisFinal\"\n",
    "dataDir = os.listdir(dataPath)\n",
    "\n",
    "# Define path to data curation (excel sheet)\n",
    "curation = pd.read_excel(r\"/Users/ilanadeutsch/Desktop/BAP1 data curation.xlsx\", sheet_name = \"Disease laterality - Feng\")"
   ]
  },
  {
   "attachments": {},
   "cell_type": "markdown",
   "metadata": {},
   "source": [
    "Initialize Variables"
   ]
  },
  {
   "cell_type": "code",
   "execution_count": 3,
   "metadata": {},
   "outputs": [],
   "source": [
    "# Define variables\n",
    "m_yes = 0\n",
    "m_no = 0\n",
    "f_yes = 0\n",
    "f_no = 0\n",
    "\n",
    "y_age = []\n",
    "n_age = []\n",
    "\n",
    "y_pixel = []\n",
    "n_pixel = []\n",
    "\n",
    "y_slice = []\n",
    "n_slice = []\n",
    "y_scanner = []\n",
    "n_scanner = []\n",
    "\n",
    "y_kvp = []\n",
    "n_kvp = []\n",
    "\n",
    "size = []\n",
    "names = []\n",
    "\n",
    "y_size = []\n",
    "n_size = []\n",
    "\n",
    "tot_y_size = []\n",
    "tot_n_size = []\n",
    "\n",
    "y_size_print = []\n",
    "n_size_print = []"
   ]
  },
  {
   "attachments": {},
   "cell_type": "markdown",
   "metadata": {},
   "source": [
    "Gather info on age, sex, slice thickness, scanner manufacturer, pixel spacing, and KVP"
   ]
  },
  {
   "cell_type": "code",
   "execution_count": 4,
   "metadata": {},
   "outputs": [],
   "source": [
    "# Gather data on patient age, patient sex, slice thickness, scanner manufacturer, pixel spacing, and KVP.\n",
    "for caseNum, case in enumerate(dataDir):\n",
    "\n",
    "    # Skip invisible entry\n",
    "    if case == \".DS_Store\":\n",
    "        continue\n",
    "\n",
    "    # Define image path\n",
    "    imgsPath = os.path.join(dataPath, dataDir[caseNum], \"OriginalImgs\")\n",
    "    imgsDir = os.listdir(imgsPath)\n",
    "    \n",
    "    # Read in dicom info\n",
    "    ds = dicom.read_file(os.path.join(imgsPath, imgsDir[0]))\n",
    "\n",
    "    # Link to patient to BAP1 status\n",
    "    for ipatient,patient in enumerate(curation[\"Case\"]):\n",
    "        if patient in case:\n",
    "            status = curation.iloc[ipatient,7]\n",
    "\n",
    "    # Determine sex\n",
    "    if ds.PatientSex == \"M\":\n",
    "       if status == \"Yes\":\n",
    "         m_yes = m_yes + 1\n",
    "       else:\n",
    "           m_no = m_no +1\n",
    "    if ds.PatientSex == \"F\":\n",
    "        if status == \"Yes\":\n",
    "            f_yes = f_yes + 1\n",
    "        else:\n",
    "           f_no = f_no +1\n",
    "\n",
    "    # Determine age\n",
    "    if status == \"Yes\":\n",
    "        y_age.append((int(ds.PatientAge[1:3])))\n",
    "    else:\n",
    "        n_age.append((int(ds.PatientAge[1:3])))\n",
    "\n",
    "    # Scanner data\n",
    "    if status == \"Yes\":\n",
    "        y_slice.append(int(ds.SliceThickness))\n",
    "        y_scanner.append(ds.Manufacturer)\n",
    "        y_pixel.append(float(ds.PixelSpacing[0]))\n",
    "        y_kvp.append(float(ds.KVP))\n",
    "    else:\n",
    "        n_slice.append(int(ds.SliceThickness))\n",
    "        n_scanner.append(ds.Manufacturer)\n",
    "        n_pixel.append(float(ds.PixelSpacing[0]))\n",
    "        n_kvp.append(float(ds.KVP))"
   ]
  },
  {
   "attachments": {},
   "cell_type": "markdown",
   "metadata": {},
   "source": [
    "Summarize data collected"
   ]
  },
  {
   "cell_type": "code",
   "execution_count": 5,
   "metadata": {},
   "outputs": [],
   "source": [
    "# Calculate medians and ranges and sums for data collected\n",
    "y_median = median(y_age)\n",
    "n_median = median(n_age)\n",
    "\n",
    "y_range = f\"{min(y_age)}-{max(y_age)}\"\n",
    "n_range = f\"{min(n_age)}-{max(n_age)}\"\n",
    "\n",
    "t_age = y_age + n_age\n",
    "t_median = int(median(t_age))\n",
    "t_range = f\"{min(t_age)}-{max(t_age)}\"\n",
    "\n",
    "y_slice_median = median(y_slice)\n",
    "y_slice_range = f\"{min(y_slice)}-{max(y_slice)}\"\n",
    "n_slice_median = median(n_slice)\n",
    "n_slice_range = f\"{min(n_slice)}-{max(n_slice)}\"\n",
    "\n",
    "t_slice = y_slice + n_slice\n",
    "t_slice_median = median(t_slice)\n",
    "t_slice_range = f\"{min(t_slice)}-{max(t_slice)}\"\n",
    "\n",
    "# Sums\n",
    "n_GE = len([scanner for scanner in n_scanner if scanner == \"GE MEDICAL SYSTEMS\"])\n",
    "y_GE = len([scanner for scanner in y_scanner if scanner == \"GE MEDICAL SYSTEMS\"])\n",
    "\n",
    "n_philips = len([scanner for scanner in n_scanner if scanner == \"Philips\"])\n",
    "y_philips = len([scanner for scanner in y_scanner if scanner == \"Philips\"])\n",
    "\n",
    "n_toshiba = len([scanner for scanner in n_scanner if scanner == \"TOSHIBA\"])\n",
    "y_toshiba = len([scanner for scanner in y_scanner if scanner == \"TOSHIBA\"])\n",
    "\n",
    "n_siemens = len([scanner for scanner in n_scanner if scanner == \"SIEMENS\"])\n",
    "y_siemens = len([scanner for scanner in y_scanner if scanner == \"SIEMENS\"])\n",
    "\n",
    "y_pixel_median = \"{:.2}\".format(median(y_pixel))\n",
    "y_pixel_range = f\"{round(min(y_pixel),2)}-{round(max(y_pixel),2)}\"\n",
    "\n",
    "n_pixel_median = \"{:.2f}\".format(median(n_pixel))\n",
    "n_pixel_range = f\"{round(min(n_pixel),2)}-{round(max(n_pixel),2)}\"\n",
    "\n",
    "t_pixel_median = \"{:.2f}\".format(median(n_pixel + y_pixel))\n",
    "t_pixel_range = f\"{round(min(n_pixel + y_pixel),2)}-{round(max(n_pixel + y_pixel),2)}\"\n",
    "\n",
    "n_kvp_median = \"{:.2f}\".format(median(n_kvp))\n",
    "n_kvp_range = f\"{round(min(n_kvp),2)}-{round(max(n_kvp),2)}\"\n",
    "\n",
    "y_kvp_median = \"{:.2f}\".format(median(y_kvp))\n",
    "y_kvp_range = f\"{round(min(y_kvp),2)}-{round(max(y_kvp),2)}\"\n",
    "\n",
    "t_kvp_median = \"{:.2f}\".format(median(n_kvp+y_kvp))\n",
    "t_kvp_range = f\"{round(min(n_kvp),2)}-{round(max(n_kvp+y_kvp),2)}\"\n",
    "\n",
    "t_cases = f_yes + f_no + m_yes + m_no\n",
    "t_yes = f_yes + m_yes\n",
    "t_no = f_no + m_no"
   ]
  },
  {
   "attachments": {},
   "cell_type": "markdown",
   "metadata": {},
   "source": [
    "Display tables of demographic and CT data"
   ]
  },
  {
   "cell_type": "code",
   "execution_count": 7,
   "metadata": {},
   "outputs": [
    {
     "name": "stdout",
     "output_type": "stream",
     "text": [
      "Characteristic    Total (n = 131)    BAP1 Mutation Status [+] (n = 60)     BAP1 Mutation Status [-] (n = 71)\n",
      "----------------  -----------------  ------------------------------------  -----------------------------------\n",
      "Sex\n",
      "Male              84                 42                                    42\n",
      "Female            47                 18                                    29\n",
      "Age\n",
      "Median            69                 69.0                                  69\n",
      "Range             21-90              51-90                                 21-81\n",
      "\n",
      "\n",
      "Characteristic        Total (n = 131)    BAP1 Mutation Status [+] (n = 60)    BAP1 Mutation Status [-] (n = 71)\n",
      "--------------------  -----------------  -----------------------------------  -----------------------------------\n",
      "Pixel Size [mm]\n",
      "Median                0.72               0.71                                 0.73\n",
      "Range                 0.56-1.07          0.57-1.07                            0.56-0.95\n",
      "Slice Thickness [mm]\n",
      "Median                3                  3.0                                  3\n",
      "Range                 1-5                1-5                                  1-5\n",
      "kVp [kV]\n",
      "Median                120.00             120.00                               120.00\n",
      "Range                 80.0-140.0         100.0-120.0                          80.0-140.0\n",
      "Scanner Manufacturer\n",
      "GE                    65                 31                                   34\n",
      "Philips               43                 20                                   23\n",
      "Toshiba               10                 4                                    6\n",
      "Siemens               13                 5                                    8\n"
     ]
    }
   ],
   "source": [
    "# Display Demographic Data\n",
    "headers = [\"Characteristic\",f\"Total (n = {t_cases})\", f\"BAP1 Mutation Status [+] (n = {t_yes}) \",f\"BAP1 Mutation Status [-] (n = {t_no})\"]\n",
    "data = [[\"Sex\",\"\",\"\",\"\"],[\"Male\", m_yes + m_no ,m_yes,m_no],[\"Female\",f_yes + f_no ,f_yes,f_no],[\"Age\",\"\",\"\",\"\"],[\"Median\",int(t_median),y_median,n_median],[\"Range\",t_range,y_range,n_range]]\n",
    "print(tabulate(data, headers=headers))\n",
    "\n",
    "print(\"\\n\")\n",
    "\n",
    "# Display CT data\n",
    "headers = [\"Characteristic\",f\"Total (n = {t_cases})\", f\"BAP1 Mutation Status [+] (n = {t_yes})\",f\"BAP1 Mutation Status [-] (n = {t_no})\"]\n",
    "data = [[\"Pixel Size [mm]\",\"\",\"\",\"\"],[\"Median\",t_pixel_median,y_pixel_median,n_pixel_median], [\"Range\",t_pixel_range,y_pixel_range,n_pixel_range],\n",
    "        [\"Slice Thickness [mm]\",\"\",\"\",\"\"],[\"Median\",t_slice_median,y_slice_median,n_slice_median],[\"Range\",\"1-5\",y_slice_range,n_slice_range],[\"kVp [kV]\",\"\",\"\",\"\"],\n",
    "        [\"Median\",t_kvp_median,y_kvp_median,n_kvp_median],[\"Range\",t_kvp_range,y_kvp_range,n_kvp_range],[\"Scanner Manufacturer\",\"\",\"\",\"\"],\n",
    "        [\"GE\",y_GE + n_GE,y_GE,n_GE],[\"Philips\",y_philips + n_philips,y_philips,n_philips],\n",
    "        [\"Toshiba\", y_toshiba+n_toshiba,y_toshiba,n_toshiba],[\"Siemens\",y_siemens + n_siemens,y_siemens,n_siemens],]\n",
    "print(tabulate(data, headers=headers))"
   ]
  },
  {
   "attachments": {},
   "cell_type": "markdown",
   "metadata": {},
   "source": [
    "Threshold map function"
   ]
  },
  {
   "cell_type": "code",
   "execution_count": 8,
   "metadata": {},
   "outputs": [],
   "source": [
    "# Define threshold map function\n",
    "def thresholdedMap(map,threshold):\n",
    "    size = map.GetSize()\n",
    "    im = np.zeros(size)\n",
    "    for i in range(size[0]):\n",
    "        for j in range(size[1]):\n",
    "            if map[i,j]>= threshold:\n",
    "                im[i,j] = 1\n",
    "            else:\n",
    "                im[i,j] = 0\n",
    "    return im"
   ]
  },
  {
   "attachments": {},
   "cell_type": "markdown",
   "metadata": {},
   "source": [
    "Gather info on tumor size/volume (~5 minutes)"
   ]
  },
  {
   "cell_type": "code",
   "execution_count": 9,
   "metadata": {},
   "outputs": [
    {
     "name": "stdout",
     "output_type": "stream",
     "text": [
      "Median BAP1 [-] vol: 14485.320693969727\n",
      "Median BAP1 [+] vol: 11045.156442590689\n",
      "\n",
      "Min BAP1 [-] vol: 2134.259033203125\n",
      "Min BAP1 [+] vol: 1323.046875\n",
      "\n",
      "Max BAP1 [-] vol: 66560.74507141113\n",
      "Max BAP1 [+] vol: 98412.84245578159\n",
      "\n"
     ]
    },
    {
     "data": {
      "text/plain": [
       "RanksumsResult(statistic=2.0695545199933547, pvalue=0.038494080789893526)"
      ]
     },
     "execution_count": 9,
     "metadata": {},
     "output_type": "execute_result"
    }
   ],
   "source": [
    "# Gather info on tumor size and volume (NOTE: Cells takes about 5 minutes to run)\n",
    "for caseNum, case in enumerate(dataDir):\n",
    "\n",
    "    # Reset total area for new case\n",
    "    tot_size_temp = 0\n",
    "\n",
    "    # Skip invisible entries\n",
    "    if case == \".DS_Store\":\n",
    "        continue\n",
    "\n",
    "    # Save a list of the case names\n",
    "    names.append(case)\n",
    "\n",
    "    # Define image path\n",
    "    imgsPath = os.path.join(dataPath, dataDir[caseNum], \"OriginalImgs\")\n",
    "    imgsDir = os.listdir(imgsPath)\n",
    "        \n",
    "    # Read in dicom info\n",
    "    ds = dicom.read_file(os.path.join(imgsPath, imgsDir[0]))\n",
    "\n",
    "    # Define map\n",
    "    mapsPath = os.path.join(dataPath, dataDir[caseNum], \"Masks_Resampled\")\n",
    "    mapsDir = os.listdir(mapsPath)\n",
    "\n",
    "    # Loop through slices\n",
    "    for sliceNum, slice in enumerate(mapsDir):\n",
    "\n",
    "\n",
    "        # Define probability map\n",
    "        mapPath = os.path.join(mapsPath, mapsDir[int(sliceNum)])\n",
    "        map = sitk.ReadImage(mapPath)\n",
    "\n",
    "        # Threshold map\n",
    "        map = thresholdedMap(map,0.01)\n",
    "\n",
    "        # Link to patient to BAP1 status\n",
    "        for ipatient,patient in enumerate(curation[\"Case\"]):\n",
    "            if patient in case:\n",
    "                status = curation.iloc[ipatient,7]\n",
    "                \n",
    "        # Save tumor size according to BAP1 status\n",
    "        if status == \"Yes\":\n",
    "            if sliceNum == 1:\n",
    "                y_size.append(sum(map[map==1])*(ds.PixelSpacing[0]*ds.PixelSpacing[1]))\n",
    "        else:\n",
    "            if sliceNum == 1:\n",
    "                n_size.append(sum(map[map==1])*(ds.PixelSpacing[0]*ds.PixelSpacing[1]))\n",
    "\n",
    "        tot_size_temp = + tot_size_temp + sum(map[map==1])*ds.PixelSpacing[0]*ds.PixelSpacing[1]\n",
    "\n",
    "    # Save cumulative tumor size\n",
    "    if status == \"Yes\":\n",
    "        tot_y_size.append(tot_size_temp)\n",
    "    else:\n",
    "        tot_n_size.append(tot_size_temp)\n",
    "\n",
    "# Multiple by 3 to find volume\n",
    "tot_y_size = [size*3 for size in tot_y_size]\n",
    "tot_n_size = [size*3 for size in tot_n_size]\n",
    "\n",
    "# Print median tumor volume\n",
    "print(f\"Median BAP1 [-] vol: {median(tot_n_size)}\")\n",
    "print(f\"Median BAP1 [+] vol: {median(tot_y_size)}\\n\")\n",
    "\n",
    "# Print minumum tumor volume\n",
    "print(f\"Min BAP1 [-] vol: {min(tot_n_size)}\")\n",
    "print(f\"Min BAP1 [+] vol: {min(tot_y_size)}\\n\")\n",
    "\n",
    "# Print maximum tumor volume\n",
    "print(f\"Max BAP1 [-] vol: {max(tot_n_size)}\")\n",
    "print(f\"Max BAP1 [+] vol: {max(tot_y_size)}\\n\")\n",
    "\n",
    "# Run statistical test for difference between volume distributions\n",
    "scipy.stats.ranksums(n_size,y_size)"
   ]
  },
  {
   "attachments": {},
   "cell_type": "markdown",
   "metadata": {},
   "source": [
    "Create tumor area histogram"
   ]
  },
  {
   "cell_type": "code",
   "execution_count": 11,
   "metadata": {},
   "outputs": [
    {
     "data": {
      "text/plain": [
       "<matplotlib.legend.Legend at 0x169a274d0>"
      ]
     },
     "execution_count": 11,
     "metadata": {},
     "output_type": "execute_result"
    },
    {
     "data": {
      "image/png": "[encoded data removed]",
      "text/plain": [
       "<Figure size 640x480 with 1 Axes>"
      ]
     },
     "metadata": {},
     "output_type": "display_data"
    }
   ],
   "source": [
    "# Plot histogram of tumor area for middle slice\n",
    "sns.set_theme()\n",
    "plt.pyplot.xlabel(\"Area [$mm^2$]\")\n",
    "plt.pyplot.title(\"Tumor Area of the Representative Slice\")\n",
    "plt.pyplot.ylabel(\"Number of Cases\")\n",
    "plt.pyplot.hist([y_size, n_size],color=['r','b'], alpha=0.5, label=['BAP1 [+]','BAP1 [-]'] )\n",
    "plt.pyplot.legend()"
   ]
  },
  {
   "attachments": {},
   "cell_type": "markdown",
   "metadata": {},
   "source": [
    "Create tumor volume histogram"
   ]
  },
  {
   "cell_type": "code",
   "execution_count": null,
   "metadata": {},
   "outputs": [],
   "source": [
    "# Plot tumor volume\n",
    "sns.set_theme()\n",
    "plt.pyplot.hist([tot_y_size, tot_n_size],color=['r','b'], alpha=0.5, label=['BAP1 [+]','BAP1 [-]'] )\n",
    "plt.pyplot.legend()\n",
    "plt.pyplot.title(\"Tumor Volume\")\n",
    "plt.pyplot.xlabel(\"Volume [$mm^3$]\")\n",
    "plt.pyplot.ylabel(\"Number of Cases\")"
   ]
  },
  {
   "attachments": {},
   "cell_type": "markdown",
   "metadata": {},
   "source": [
    "Create age histogram"
   ]
  },
  {
   "cell_type": "code",
   "execution_count": 12,
   "metadata": {},
   "outputs": [
    {
     "data": {
      "text/plain": [
       "<matplotlib.legend.Legend at 0x1697b4210>"
      ]
     },
     "execution_count": 12,
     "metadata": {},
     "output_type": "execute_result"
    },
    {
     "data": {
      "image/png": "[encoded data removed]",
      "text/plain": [
       "<Figure size 640x480 with 1 Axes>"
      ]
     },
     "metadata": {},
     "output_type": "display_data"
    }
   ],
   "source": [
    "# Plot age histogram\n",
    "sns.set_theme()\n",
    "plt.pyplot.xlabel(\"Age\")\n",
    "plt.pyplot.ylabel(\"Number of Cases\")\n",
    "plt.pyplot.title(\"Patient Age Distribution\")\n",
    "plt.pyplot.hist([y_age,n_age], color=['r','b'], alpha=0.5,label=['BAP1 [+]','BAP1 [-]'])\n",
    "plt.pyplot.vlines(x = t_median , ymin = 0, ymax = 25,\n",
    "          linestyles = \"dashed\", colors = \"black\", label = f\"Median = {t_median}\")  \n",
    "plt.pyplot.legend()"
   ]
  },
  {
   "attachments": {},
   "cell_type": "markdown",
   "metadata": {},
   "source": [
    "Gather info on reconstruction kernels"
   ]
  },
  {
   "cell_type": "code",
   "execution_count": null,
   "metadata": {},
   "outputs": [],
   "source": [
    "# Initialize necessary lists\n",
    "kernel = []\n",
    "y_GE = []\n",
    "y_p = []\n",
    "y_t = []\n",
    "y_s = []\n",
    "n_GE = []\n",
    "n_p = []\n",
    "n_t = []\n",
    "n_s = []\n",
    "\n",
    "# Gather info on reconstruction kernels (NOTE: there are ~20 different kernels,\n",
    "# data must be interpreted manually)\n",
    "for caseNum, case in enumerate(dataDir):\n",
    "\n",
    "    # Skip invisible entry\n",
    "    if case == \".DS_Store\":\n",
    "        continue\n",
    "\n",
    "    # Define image path\n",
    "    imgsPath = os.path.join(dataPath, dataDir[caseNum], \"OriginalImgs\")\n",
    "    imgsDir = os.listdir(imgsPath)\n",
    "    \n",
    "    # Read in dicom info\n",
    "    ds = dicom.read_file(os.path.join(imgsPath, imgsDir[0]))\n",
    "\n",
    "    # Link to patient to BAP1 status\n",
    "    for ipatient,patient in enumerate(curation[\"Case\"]):\n",
    "        if patient in case:\n",
    "            status = curation.iloc[ipatient,7]\n",
    "\n",
    "    # Scanner data\n",
    "    if status == \"Yes\":\n",
    "        if ds.Manufacturer == \"GE MEDICAL SYSTEMS\":\n",
    "            y_GE.append(ds.ConvolutionKernel)\n",
    "        if ds.Manufacturer == \"Philips\":\n",
    "            y_p.append(ds.ConvolutionKernel)\n",
    "        if ds.Manufacturer == \"TOSHIBA\":\n",
    "            y_t.append(ds.ConvolutionKernel)\n",
    "        if ds.Manufacturer == \"SIEMENS\":\n",
    "            y_s.append(ds.ConvolutionKernel)\n",
    "    else:\n",
    "        if ds.Manufacturer == \"GE MEDICAL SYSTEMS\":\n",
    "            n_GE.append(ds.ConvolutionKernel)\n",
    "        if ds.Manufacturer == \"Philips\":\n",
    "            n_p.append(ds.ConvolutionKernel)\n",
    "        if ds.Manufacturer == \"TOSHIBA\":\n",
    "            n_t.append(ds.ConvolutionKernel)\n",
    "        if ds.Manufacturer == \"SIEMENS\":\n",
    "            n_s.append(ds.ConvolutionKernel) \n"
   ]
  }
 ],
 "metadata": {
  "kernelspec": {
   "display_name": "Python 3",
   "language": "python",
   "name": "python3"
  },
  "language_info": {
   "codemirror_mode": {
    "name": "ipython",
    "version": 3
   },
   "file_extension": ".py",
   "mimetype": "text/x-python",
   "name": "python",
   "nbconvert_exporter": "python",
   "pygments_lexer": "ipython3",
   "version": "3.11.1"
  },
  "orig_nbformat": 4,
  "vscode": {
   "interpreter": {
    "hash": "aee8b7b246df8f9039afb4144a1f6fd8d2ca17a180786b69acc140d282b71a49"
   }
  }
 },
 "nbformat": 4,
 "nbformat_minor": 2
}
