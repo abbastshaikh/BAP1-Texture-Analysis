{
 "cells": [
  {
   "cell_type": "code",
   "execution_count": 1,
   "metadata": {},
   "outputs": [],
   "source": [
    "import os\n",
    "import pydicom as dicom\n",
    "import pandas as pd\n",
    "from tabulate import tabulate\n",
    "import matplotlib as plt\n",
    "from matplotlib import figure, pyplot\n",
    "from statistics import median, mean\n",
    "import numpy as np\n",
    "import SimpleITK as sitk\n",
    "import csv\n",
    "import seaborn as sns"
   ]
  },
  {
   "cell_type": "code",
   "execution_count": 13,
   "metadata": {},
   "outputs": [],
   "source": [
    "# Set variables\n",
    "m_yes = 0\n",
    "m_no = 0\n",
    "f_yes = 0\n",
    "f_no = 0\n",
    "\n",
    "y_age = []\n",
    "n_age = []\n",
    "\n",
    "y_pixel = []\n",
    "n_pixel = []\n",
    "\n",
    "y_slice = []\n",
    "n_slice = []\n",
    "y_scanner = []\n",
    "n_scanner = []\n",
    "\n",
    "y_kvp = []\n",
    "n_kvp = []"
   ]
  },
  {
   "cell_type": "code",
   "execution_count": 14,
   "metadata": {},
   "outputs": [],
   "source": [
    "# Load data\n",
    "dataPath = \"/Users/ilanadeutsch/Desktop/TextureAnalysisFinal\"\n",
    "dataDir = os.listdir(dataPath)\n",
    "\n",
    "# Load data curation\n",
    "curation = pd.read_excel(r\"/Users/ilanadeutsch/Desktop/BAP1 data curation.xlsx\", sheet_name = \"Disease laterality - Feng\")\n",
    "\n",
    "for caseNum, case in enumerate(dataDir):\n",
    "\n",
    "    # Skip invisible entry\n",
    "    if case == \".DS_Store\":\n",
    "        continue\n",
    "\n",
    "    # Define image path\n",
    "    imgsPath = os.path.join(dataPath, dataDir[caseNum], \"OriginalImgs\")\n",
    "    imgsDir = os.listdir(imgsPath)\n",
    "    \n",
    "    # Read in dicom info\n",
    "    ds = dicom.read_file(os.path.join(imgsPath, imgsDir[0]))\n",
    "\n",
    "    # Link to patient to BAP1 status\n",
    "    for ipatient,patient in enumerate(curation[\"Case\"]):\n",
    "        if patient in case:\n",
    "            status = curation.iloc[ipatient,7]\n",
    "\n",
    "    # Determine sex\n",
    "    if ds.PatientSex == \"M\":\n",
    "       if status == \"Yes\":\n",
    "         m_yes = m_yes + 1\n",
    "       else:\n",
    "           m_no = m_no +1\n",
    "    if ds.PatientSex == \"F\":\n",
    "        if status == \"Yes\":\n",
    "            f_yes = f_yes + 1\n",
    "        else:\n",
    "           f_no = f_no +1\n",
    "\n",
    "    # Determine age\n",
    "    if status == \"Yes\":\n",
    "        y_age.append((int(ds.PatientAge[1:3])))\n",
    "    else:\n",
    "        n_age.append((int(ds.PatientAge[1:3])))\n",
    "\n",
    "    # Scanner data\n",
    "    if status == \"Yes\":\n",
    "        y_slice.append(int(ds.SliceThickness))\n",
    "        y_scanner.append(ds.Manufacturer)\n",
    "        y_pixel.append(float(ds.PixelSpacing[0]))\n",
    "        y_kvp.append(float(ds.KVP))\n",
    "    else:\n",
    "        n_slice.append(int(ds.SliceThickness))\n",
    "        n_scanner.append(ds.Manufacturer)\n",
    "        n_pixel.append(float(ds.PixelSpacing[0]))\n",
    "        n_kvp.append(float(ds.KVP))"
   ]
  },
  {
   "cell_type": "code",
   "execution_count": 15,
   "metadata": {},
   "outputs": [],
   "source": [
    "# Calculate medians and ranges\n",
    "y_median = median(y_age)\n",
    "n_median = median(n_age)\n",
    "\n",
    "y_range = f\"{min(y_age)}-{max(y_age)}\"\n",
    "n_range = f\"{min(n_age)}-{max(n_age)}\"\n",
    "\n",
    "t_age = y_age + n_age\n",
    "t_median = int(median(t_age))\n",
    "t_range = f\"{min(t_age)}-{max(t_age)}\"\n",
    "\n",
    "y_slice_median = median(y_slice)\n",
    "y_slice_range = f\"{min(y_slice)}-{max(y_slice)}\"\n",
    "n_slice_median = median(n_slice)\n",
    "n_slice_range = f\"{min(n_slice)}-{max(n_slice)}\"\n",
    "\n",
    "t_slice = y_slice + n_slice\n",
    "t_slice_median = median(t_slice)\n",
    "t_slice_range = f\"{min(t_slice)}-{max(t_slice)}\"\n",
    "\n",
    "# Sums\n",
    "n_GE = len([scanner for scanner in n_scanner if scanner == \"GE MEDICAL SYSTEMS\"])\n",
    "y_GE = len([scanner for scanner in y_scanner if scanner == \"GE MEDICAL SYSTEMS\"])\n",
    "\n",
    "n_philips = len([scanner for scanner in n_scanner if scanner == \"Philips\"])\n",
    "y_philips = len([scanner for scanner in y_scanner if scanner == \"Philips\"])\n",
    "\n",
    "n_toshiba = len([scanner for scanner in n_scanner if scanner == \"TOSHIBA\"])\n",
    "y_toshiba = len([scanner for scanner in y_scanner if scanner == \"TOSHIBA\"])\n",
    "\n",
    "n_siemens = len([scanner for scanner in n_scanner if scanner == \"SIEMENS\"])\n",
    "y_siemens = len([scanner for scanner in y_scanner if scanner == \"SIEMENS\"])\n",
    "\n",
    "y_pixel_median = \"{:.2}\".format(median(y_pixel))\n",
    "y_pixel_range = f\"{round(min(y_pixel),2)}-{round(max(y_pixel),2)}\"\n",
    "\n",
    "n_pixel_median = \"{:.2f}\".format(median(n_pixel))\n",
    "n_pixel_range = f\"{round(min(n_pixel),2)}-{round(max(n_pixel),2)}\"\n",
    "\n",
    "t_pixel_median = \"{:.2f}\".format(median(n_pixel + y_pixel))\n",
    "t_pixel_range = f\"{round(min(n_pixel + y_pixel),2)}-{round(max(n_pixel + y_pixel),2)}\"\n",
    "\n",
    "n_kvp_median = \"{:.2f}\".format(median(n_kvp))\n",
    "n_kvp_range = f\"{round(min(n_kvp),2)}-{round(max(n_kvp),2)}\"\n",
    "\n",
    "y_kvp_median = \"{:.2f}\".format(median(y_kvp))\n",
    "y_kvp_range = f\"{round(min(y_kvp),2)}-{round(max(y_kvp),2)}\"\n",
    "\n",
    "t_kvp_median = \"{:.2f}\".format(median(n_kvp+y_kvp))\n",
    "t_kvp_range = f\"{round(min(n_kvp),2)}-{round(max(n_kvp+y_kvp),2)}\""
   ]
  },
  {
   "cell_type": "code",
   "execution_count": 17,
   "metadata": {},
   "outputs": [
    {
     "name": "stdout",
     "output_type": "stream",
     "text": [
      "Characteristic    Total (n = 131)    BAP1 Mutation Status [+] (n = 58)     BAP1 Mutation Status [-] (n = 63)\n",
      "----------------  -----------------  ------------------------------------  -----------------------------------\n",
      "Sex\n",
      "Male              84                 40                                    44\n",
      "Female            47                 18                                    29\n",
      "Age\n",
      "Median            69                 69.0                                  69\n",
      "Range             21-90              51-90                                 21-81\n"
     ]
    }
   ],
   "source": [
    "# Display Demographic Data\n",
    "headers = [\"Characteristic\",\"Total (n = 131)\", \"BAP1 Mutation Status [+] (n = 58) \",\"BAP1 Mutation Status [-] (n = 63)\"]\n",
    "data = [[\"Sex\",\"\",\"\",\"\"],[\"Male\", m_yes + m_no ,m_yes,m_no],[\"Female\",f_yes + f_no ,f_yes,f_no],[\"Age\",\"\",\"\",\"\"],[\"Median\",int(t_median),y_median,n_median],[\"Range\",t_range,y_range,n_range]]\n",
    "\n",
    "print(tabulate(data, headers=headers))"
   ]
  },
  {
   "cell_type": "code",
   "execution_count": 19,
   "metadata": {},
   "outputs": [
    {
     "name": "stdout",
     "output_type": "stream",
     "text": [
      "Characteristic        Total (n = 131)    BAP1 Mutation Status [+] (n = 58)     BAP1 Mutation Status [-] (n = 63)\n",
      "--------------------  -----------------  ------------------------------------  -----------------------------------\n",
      "Pixel Size [mm]\n",
      "Median                0.72               0.71                                  0.73\n",
      "Range                 0.56-1.07          0.57-1.07                             0.56-0.95\n",
      "Slice Thickness [mm]\n",
      "Median                3                  3.0                                   3\n",
      "Range                 1-5                1-5                                   1-5\n",
      "kVp [kV]\n",
      "Median                120.00             120.00                                120.00\n",
      "Range                 80.0-140.0         100.0-120.0                           80.0-140.0\n",
      "Scanner Manufacturer\n",
      "GE                    65                 30                                    35\n",
      "Philips               43                 19                                    24\n",
      "Toshiba               10                 4                                     6\n",
      "Siemens               13                 5                                     8\n"
     ]
    }
   ],
   "source": [
    "# CT data\n",
    "headers = [\"Characteristic\",\"Total (n = 131)\", \"BAP1 Mutation Status [+] (n = 58) \",\"BAP1 Mutation Status [-] (n = 63)\"]\n",
    "data = [[\"Pixel Size [mm]\",\"\",\"\",\"\"],[\"Median\",t_pixel_median,y_pixel_median,n_pixel_median], [\"Range\",t_pixel_range,y_pixel_range,n_pixel_range],\n",
    "        [\"Slice Thickness [mm]\",\"\",\"\",\"\"],[\"Median\",\"3\",y_slice_median,n_slice_median],[\"Range\",\"1-5\",y_slice_range,n_slice_range],[\"kVp [kV]\",\"\",\"\",\"\"],\n",
    "        [\"Median\",t_kvp_median,y_kvp_median,n_kvp_median],[\"Range\",t_kvp_range,y_kvp_range,n_kvp_range],[\"Scanner Manufacturer\",\"\",\"\",\"\"],\n",
    "        [\"GE\",y_GE + n_GE,y_GE,n_GE],[\"Philips\",y_philips + n_philips,y_philips,n_philips],\n",
    "        [\"Toshiba\", y_toshiba+n_toshiba,y_toshiba,n_toshiba],[\"Siemens\",y_siemens +n_siemens,y_siemens,n_siemens],]\n",
    "\n",
    "print(tabulate(data, headers=headers))"
   ]
  },
  {
   "cell_type": "code",
   "execution_count": 3,
   "metadata": {},
   "outputs": [],
   "source": [
    "# Threshold map \n",
    "def thresholdedMap(map,threshold):\n",
    "    \n",
    "    size = map.GetSize()\n",
    "    im = np.zeros(size)\n",
    "    for i in range(size[0]):\n",
    "        for j in range(size[1]):\n",
    "            if map[i,j]>= threshold:\n",
    "                im[i,j] = 1\n",
    "            else:\n",
    "                im[i,j] = 0\n",
    "    return im"
   ]
  },
  {
   "cell_type": "code",
   "execution_count": 6,
   "metadata": {},
   "outputs": [],
   "source": [
    "# Initialize variables\n",
    "size = []\n",
    "names = []\n",
    "\n",
    "y_size = []\n",
    "n_size = []\n",
    "\n",
    "tot_y_size = []\n",
    "tot_n_size = []\n",
    "\n",
    "y_size_print = []\n",
    "n_size_print = []\n",
    "\n",
    "# Load data\n",
    "dataPath = \"/Users/ilanadeutsch/Desktop/TextureAnalysisFinal\"\n",
    "dataDir = os.listdir(dataPath)\n",
    "\n",
    "# Load data curation\n",
    "curation = pd.read_excel(r\"/Users/ilanadeutsch/Desktop/BAP1 data curation.xlsx\", sheet_name = \"Disease laterality - Feng\")\n",
    "\n",
    "for caseNum, case in enumerate(dataDir):\n",
    "\n",
    "    # Reset total area for new case\n",
    "    tot_size_temp = 0\n",
    "\n",
    "    # Skip invisible entries\n",
    "    if case == \".DS_Store\":\n",
    "        continue\n",
    "\n",
    "    # Save a list of the case names\n",
    "    names.append(case)\n",
    "\n",
    "    # Define image path\n",
    "    imgsPath = os.path.join(dataPath, dataDir[caseNum], \"OriginalImgs\")\n",
    "    imgsDir = os.listdir(imgsPath)\n",
    "        \n",
    "    # Read in dicom info\n",
    "    ds = dicom.read_file(os.path.join(imgsPath, imgsDir[0]))\n",
    "\n",
    "    # Define map\n",
    "    mapsPath = os.path.join(dataPath, dataDir[caseNum], \"Masks_Resampled\")\n",
    "    mapsDir = os.listdir(mapsPath)\n",
    "\n",
    "    # Loop through slices\n",
    "    for sliceNum, slice in enumerate(mapsDir):\n",
    "\n",
    "\n",
    "        # Define probability map\n",
    "        mapPath = os.path.join(mapsPath, mapsDir[int(sliceNum)])\n",
    "        map = sitk.ReadImage(mapPath)\n",
    "\n",
    "        # Threshold map\n",
    "        map = thresholdedMap(map,0.01)\n",
    "\n",
    "        # Link to patient to BAP1 status\n",
    "        for ipatient,patient in enumerate(curation[\"Case\"]):\n",
    "            if patient in case:\n",
    "                status = curation.iloc[ipatient,7]\n",
    "                \n",
    "        # Save tumor size according to BAP1 status\n",
    "        if status == \"Yes\":\n",
    "            if sliceNum == 1:\n",
    "                y_size.append(sum(map[map==1])*(ds.PixelSpacing[0]*ds.PixelSpacing[1]))\n",
    "        else:\n",
    "            if sliceNum == 1:\n",
    "                n_size.append(sum(map[map==1])*(ds.PixelSpacing[0]*ds.PixelSpacing[1]))\n",
    "\n",
    "        tot_size_temp = + tot_size_temp + sum(map[map==1])*ds.PixelSpacing[0]*ds.PixelSpacing[1]\n",
    "\n",
    "    # Save cumulative tumor size\n",
    "    if status == \"Yes\":\n",
    "        tot_y_size.append(tot_size_temp)\n",
    "    else:\n",
    "        tot_n_size.append(tot_size_temp)\n"
   ]
  },
  {
   "cell_type": "code",
   "execution_count": 7,
   "metadata": {},
   "outputs": [
    {
     "data": {
      "text/plain": [
       "<matplotlib.legend.Legend at 0x14752c550>"
      ]
     },
     "execution_count": 7,
     "metadata": {},
     "output_type": "execute_result"
    },
    {
     "data": {
      "image/png": "[encoded data removed]",
      "text/plain": [
       "<Figure size 640x480 with 1 Axes>"
      ]
     },
     "metadata": {},
     "output_type": "display_data"
    }
   ],
   "source": [
    "# Plot histogram of tumor area for middle slice\n",
    "plt.pyplot.xlabel(\"Area (square mm)\")\n",
    "plt.pyplot.title(\"Tumor Area of the Representative Slice\")\n",
    "plt.pyplot.ylabel(\"Number of Cases\")\n",
    "sns.set_theme()\n",
    "plt.pyplot.hist([y_size, n_size],color=['r','b'], alpha=0.5, label=['BAP1 [+]','BAP1 [-]'] )\n",
    "plt.pyplot.legend()"
   ]
  },
  {
   "cell_type": "code",
   "execution_count": 8,
   "metadata": {},
   "outputs": [
    {
     "data": {
      "text/plain": [
       "Text(0, 0.5, 'Number of Cases')"
      ]
     },
     "execution_count": 8,
     "metadata": {},
     "output_type": "execute_result"
    },
    {
     "data": {
      "image/png": "[encoded data removed]",
      "text/plain": [
       "<Figure size 640x480 with 1 Axes>"
      ]
     },
     "metadata": {},
     "output_type": "display_data"
    }
   ],
   "source": [
    "# Plot tumor area of all 3 slices of interest added together\n",
    "\n",
    "sns.set_theme()\n",
    "plt.pyplot.hist([tot_y_size, tot_n_size],color=['r','b'], alpha=0.5, label=['BAP1 [+]','BAP1 [-]'] )\n",
    "plt.pyplot.legend()\n",
    "plt.pyplot.title(\"Tumor Area of 3 Slices of Interest\")\n",
    "plt.pyplot.xlabel(\"Area (square mm)\")\n",
    "plt.pyplot.ylabel(\"Number of Cases\")"
   ]
  },
  {
   "cell_type": "code",
   "execution_count": 9,
   "metadata": {},
   "outputs": [
    {
     "ename": "NameError",
     "evalue": "name 'y_age' is not defined",
     "output_type": "error",
     "traceback": [
      "\u001b[0;31m---------------------------------------------------------------------------\u001b[0m",
      "\u001b[0;31mNameError\u001b[0m                                 Traceback (most recent call last)",
      "Cell \u001b[0;32mIn[9], line 5\u001b[0m\n\u001b[1;32m      3\u001b[0m plt\u001b[39m.\u001b[39mpyplot\u001b[39m.\u001b[39mtitle(\u001b[39m\"\u001b[39m\u001b[39mPatient Age Distribution\u001b[39m\u001b[39m\"\u001b[39m)\n\u001b[1;32m      4\u001b[0m sns\u001b[39m.\u001b[39mset_theme()\n\u001b[0;32m----> 5\u001b[0m plt\u001b[39m.\u001b[39mpyplot\u001b[39m.\u001b[39mhist([y_age,n_age], color\u001b[39m=\u001b[39m[\u001b[39m'\u001b[39m\u001b[39mpurple\u001b[39m\u001b[39m'\u001b[39m,\u001b[39m'\u001b[39m\u001b[39mg\u001b[39m\u001b[39m'\u001b[39m], alpha\u001b[39m=\u001b[39m\u001b[39m0.5\u001b[39m,label\u001b[39m=\u001b[39m[\u001b[39m'\u001b[39m\u001b[39mBAP1 [+]\u001b[39m\u001b[39m'\u001b[39m,\u001b[39m'\u001b[39m\u001b[39mBAP1 [-]\u001b[39m\u001b[39m'\u001b[39m])\n\u001b[1;32m      6\u001b[0m plt\u001b[39m.\u001b[39mpyplot\u001b[39m.\u001b[39mvlines(x \u001b[39m=\u001b[39m \u001b[39m69\u001b[39m , ymin \u001b[39m=\u001b[39m \u001b[39m0\u001b[39m, ymax \u001b[39m=\u001b[39m \u001b[39m25\u001b[39m,\n\u001b[1;32m      7\u001b[0m           linestyles \u001b[39m=\u001b[39m \u001b[39m\"\u001b[39m\u001b[39mdashed\u001b[39m\u001b[39m\"\u001b[39m, colors \u001b[39m=\u001b[39m \u001b[39m\"\u001b[39m\u001b[39mblack\u001b[39m\u001b[39m\"\u001b[39m, label \u001b[39m=\u001b[39m \u001b[39m\"\u001b[39m\u001b[39mMedian = 69\u001b[39m\u001b[39m\"\u001b[39m)  \n\u001b[1;32m      8\u001b[0m plt\u001b[39m.\u001b[39mpyplot\u001b[39m.\u001b[39mlegend()\n",
      "\u001b[0;31mNameError\u001b[0m: name 'y_age' is not defined"
     ]
    },
    {
     "data": {
      "image/png": "[encoded data removed]",
      "text/plain": [
       "<Figure size 640x480 with 1 Axes>"
      ]
     },
     "metadata": {},
     "output_type": "display_data"
    }
   ],
   "source": [
    "plt.pyplot.xlabel(\"Age\")\n",
    "plt.pyplot.ylabel(\"Number of Cases\")\n",
    "plt.pyplot.title(\"Patient Age Distribution\")\n",
    "sns.set_theme()\n",
    "plt.pyplot.hist([y_age,n_age], color=['purple','g'], alpha=0.5,label=['BAP1 [+]','BAP1 [-]'])\n",
    "plt.pyplot.vlines(x = 69 , ymin = 0, ymax = 25,\n",
    "          linestyles = \"dashed\", colors = \"black\", label = \"Median = 69\")  \n",
    "plt.pyplot.legend()"
   ]
  },
  {
   "cell_type": "code",
   "execution_count": 11,
   "metadata": {},
   "outputs": [
    {
     "name": "stdout",
     "output_type": "stream",
     "text": [
      "Mean BAP1 [-] size: 2286.740976233088\n",
      "Mean BAP1 [+] size: 1649.1613056799144\n",
      "Median BAP1 [-] size: 1564.1376170000003\n",
      "Median BAP1 [+] size: 1249.7867856272478\n"
     ]
    }
   ],
   "source": [
    "print(f\"Mean BAP1 [-] size: {mean(n_size)}\")\n",
    "print(f\"Mean BAP1 [+] size: {mean(y_size)}\")\n",
    "\n",
    "print(f\"Median BAP1 [-] size: {median(n_size)}\")\n",
    "print(f\"Median BAP1 [+] size: {median(y_size)}\")"
   ]
  },
  {
   "cell_type": "code",
   "execution_count": 10,
   "metadata": {},
   "outputs": [
    {
     "ename": "FileNotFoundError",
     "evalue": "[Errno 2] No such file or directory: '/Users/ilanadeutsch/Desktop/predictions.csv'",
     "output_type": "error",
     "traceback": [
      "\u001b[0;31m---------------------------------------------------------------------------\u001b[0m",
      "\u001b[0;31mFileNotFoundError\u001b[0m                         Traceback (most recent call last)",
      "Cell \u001b[0;32mIn[10], line 3\u001b[0m\n\u001b[1;32m      1\u001b[0m \u001b[39m# Determine tumor size in relation to classifier prediction\u001b[39;00m\n\u001b[1;32m      2\u001b[0m predictionsPath \u001b[39m=\u001b[39m \u001b[39mr\u001b[39m\u001b[39m'\u001b[39m\u001b[39m/Users/ilanadeutsch/Desktop/predictions.csv\u001b[39m\u001b[39m'\u001b[39m\n\u001b[0;32m----> 3\u001b[0m predictions \u001b[39m=\u001b[39m pd\u001b[39m.\u001b[39;49mread_csv(predictionsPath)\n\u001b[1;32m      5\u001b[0m sizePath \u001b[39m=\u001b[39m \u001b[39mr\u001b[39m\u001b[39m'\u001b[39m\u001b[39m/Users/ilanadeutsch/Desktop/tumorsizes.csv\u001b[39m\u001b[39m'\u001b[39m\n\u001b[1;32m      6\u001b[0m sizes \u001b[39m=\u001b[39m  pd\u001b[39m.\u001b[39mread_csv(sizePath)\n",
      "File \u001b[0;32m/Library/Frameworks/Python.framework/Versions/3.11/lib/python3.11/site-packages/pandas/io/parsers/readers.py:912\u001b[0m, in \u001b[0;36mread_csv\u001b[0;34m(filepath_or_buffer, sep, delimiter, header, names, index_col, usecols, dtype, engine, converters, true_values, false_values, skipinitialspace, skiprows, skipfooter, nrows, na_values, keep_default_na, na_filter, verbose, skip_blank_lines, parse_dates, infer_datetime_format, keep_date_col, date_parser, date_format, dayfirst, cache_dates, iterator, chunksize, compression, thousands, decimal, lineterminator, quotechar, quoting, doublequote, escapechar, comment, encoding, encoding_errors, dialect, on_bad_lines, delim_whitespace, low_memory, memory_map, float_precision, storage_options, dtype_backend)\u001b[0m\n\u001b[1;32m    899\u001b[0m kwds_defaults \u001b[39m=\u001b[39m _refine_defaults_read(\n\u001b[1;32m    900\u001b[0m     dialect,\n\u001b[1;32m    901\u001b[0m     delimiter,\n\u001b[0;32m   (...)\u001b[0m\n\u001b[1;32m    908\u001b[0m     dtype_backend\u001b[39m=\u001b[39mdtype_backend,\n\u001b[1;32m    909\u001b[0m )\n\u001b[1;32m    910\u001b[0m kwds\u001b[39m.\u001b[39mupdate(kwds_defaults)\n\u001b[0;32m--> 912\u001b[0m \u001b[39mreturn\u001b[39;00m _read(filepath_or_buffer, kwds)\n",
      "File \u001b[0;32m/Library/Frameworks/Python.framework/Versions/3.11/lib/python3.11/site-packages/pandas/io/parsers/readers.py:577\u001b[0m, in \u001b[0;36m_read\u001b[0;34m(filepath_or_buffer, kwds)\u001b[0m\n\u001b[1;32m    574\u001b[0m _validate_names(kwds\u001b[39m.\u001b[39mget(\u001b[39m\"\u001b[39m\u001b[39mnames\u001b[39m\u001b[39m\"\u001b[39m, \u001b[39mNone\u001b[39;00m))\n\u001b[1;32m    576\u001b[0m \u001b[39m# Create the parser.\u001b[39;00m\n\u001b[0;32m--> 577\u001b[0m parser \u001b[39m=\u001b[39m TextFileReader(filepath_or_buffer, \u001b[39m*\u001b[39;49m\u001b[39m*\u001b[39;49mkwds)\n\u001b[1;32m    579\u001b[0m \u001b[39mif\u001b[39;00m chunksize \u001b[39mor\u001b[39;00m iterator:\n\u001b[1;32m    580\u001b[0m     \u001b[39mreturn\u001b[39;00m parser\n",
      "File \u001b[0;32m/Library/Frameworks/Python.framework/Versions/3.11/lib/python3.11/site-packages/pandas/io/parsers/readers.py:1407\u001b[0m, in \u001b[0;36mTextFileReader.__init__\u001b[0;34m(self, f, engine, **kwds)\u001b[0m\n\u001b[1;32m   1404\u001b[0m     \u001b[39mself\u001b[39m\u001b[39m.\u001b[39moptions[\u001b[39m\"\u001b[39m\u001b[39mhas_index_names\u001b[39m\u001b[39m\"\u001b[39m] \u001b[39m=\u001b[39m kwds[\u001b[39m\"\u001b[39m\u001b[39mhas_index_names\u001b[39m\u001b[39m\"\u001b[39m]\n\u001b[1;32m   1406\u001b[0m \u001b[39mself\u001b[39m\u001b[39m.\u001b[39mhandles: IOHandles \u001b[39m|\u001b[39m \u001b[39mNone\u001b[39;00m \u001b[39m=\u001b[39m \u001b[39mNone\u001b[39;00m\n\u001b[0;32m-> 1407\u001b[0m \u001b[39mself\u001b[39m\u001b[39m.\u001b[39m_engine \u001b[39m=\u001b[39m \u001b[39mself\u001b[39;49m\u001b[39m.\u001b[39;49m_make_engine(f, \u001b[39mself\u001b[39;49m\u001b[39m.\u001b[39;49mengine)\n",
      "File \u001b[0;32m/Library/Frameworks/Python.framework/Versions/3.11/lib/python3.11/site-packages/pandas/io/parsers/readers.py:1661\u001b[0m, in \u001b[0;36mTextFileReader._make_engine\u001b[0;34m(self, f, engine)\u001b[0m\n\u001b[1;32m   1659\u001b[0m     \u001b[39mif\u001b[39;00m \u001b[39m\"\u001b[39m\u001b[39mb\u001b[39m\u001b[39m\"\u001b[39m \u001b[39mnot\u001b[39;00m \u001b[39min\u001b[39;00m mode:\n\u001b[1;32m   1660\u001b[0m         mode \u001b[39m+\u001b[39m\u001b[39m=\u001b[39m \u001b[39m\"\u001b[39m\u001b[39mb\u001b[39m\u001b[39m\"\u001b[39m\n\u001b[0;32m-> 1661\u001b[0m \u001b[39mself\u001b[39m\u001b[39m.\u001b[39mhandles \u001b[39m=\u001b[39m get_handle(\n\u001b[1;32m   1662\u001b[0m     f,\n\u001b[1;32m   1663\u001b[0m     mode,\n\u001b[1;32m   1664\u001b[0m     encoding\u001b[39m=\u001b[39;49m\u001b[39mself\u001b[39;49m\u001b[39m.\u001b[39;49moptions\u001b[39m.\u001b[39;49mget(\u001b[39m\"\u001b[39;49m\u001b[39mencoding\u001b[39;49m\u001b[39m\"\u001b[39;49m, \u001b[39mNone\u001b[39;49;00m),\n\u001b[1;32m   1665\u001b[0m     compression\u001b[39m=\u001b[39;49m\u001b[39mself\u001b[39;49m\u001b[39m.\u001b[39;49moptions\u001b[39m.\u001b[39;49mget(\u001b[39m\"\u001b[39;49m\u001b[39mcompression\u001b[39;49m\u001b[39m\"\u001b[39;49m, \u001b[39mNone\u001b[39;49;00m),\n\u001b[1;32m   1666\u001b[0m     memory_map\u001b[39m=\u001b[39;49m\u001b[39mself\u001b[39;49m\u001b[39m.\u001b[39;49moptions\u001b[39m.\u001b[39;49mget(\u001b[39m\"\u001b[39;49m\u001b[39mmemory_map\u001b[39;49m\u001b[39m\"\u001b[39;49m, \u001b[39mFalse\u001b[39;49;00m),\n\u001b[1;32m   1667\u001b[0m     is_text\u001b[39m=\u001b[39;49mis_text,\n\u001b[1;32m   1668\u001b[0m     errors\u001b[39m=\u001b[39;49m\u001b[39mself\u001b[39;49m\u001b[39m.\u001b[39;49moptions\u001b[39m.\u001b[39;49mget(\u001b[39m\"\u001b[39;49m\u001b[39mencoding_errors\u001b[39;49m\u001b[39m\"\u001b[39;49m, \u001b[39m\"\u001b[39;49m\u001b[39mstrict\u001b[39;49m\u001b[39m\"\u001b[39;49m),\n\u001b[1;32m   1669\u001b[0m     storage_options\u001b[39m=\u001b[39;49m\u001b[39mself\u001b[39;49m\u001b[39m.\u001b[39;49moptions\u001b[39m.\u001b[39;49mget(\u001b[39m\"\u001b[39;49m\u001b[39mstorage_options\u001b[39;49m\u001b[39m\"\u001b[39;49m, \u001b[39mNone\u001b[39;49;00m),\n\u001b[1;32m   1670\u001b[0m )\n\u001b[1;32m   1671\u001b[0m \u001b[39massert\u001b[39;00m \u001b[39mself\u001b[39m\u001b[39m.\u001b[39mhandles \u001b[39mis\u001b[39;00m \u001b[39mnot\u001b[39;00m \u001b[39mNone\u001b[39;00m\n\u001b[1;32m   1672\u001b[0m f \u001b[39m=\u001b[39m \u001b[39mself\u001b[39m\u001b[39m.\u001b[39mhandles\u001b[39m.\u001b[39mhandle\n",
      "File \u001b[0;32m/Library/Frameworks/Python.framework/Versions/3.11/lib/python3.11/site-packages/pandas/io/common.py:859\u001b[0m, in \u001b[0;36mget_handle\u001b[0;34m(path_or_buf, mode, encoding, compression, memory_map, is_text, errors, storage_options)\u001b[0m\n\u001b[1;32m    854\u001b[0m \u001b[39melif\u001b[39;00m \u001b[39misinstance\u001b[39m(handle, \u001b[39mstr\u001b[39m):\n\u001b[1;32m    855\u001b[0m     \u001b[39m# Check whether the filename is to be opened in binary mode.\u001b[39;00m\n\u001b[1;32m    856\u001b[0m     \u001b[39m# Binary mode does not support 'encoding' and 'newline'.\u001b[39;00m\n\u001b[1;32m    857\u001b[0m     \u001b[39mif\u001b[39;00m ioargs\u001b[39m.\u001b[39mencoding \u001b[39mand\u001b[39;00m \u001b[39m\"\u001b[39m\u001b[39mb\u001b[39m\u001b[39m\"\u001b[39m \u001b[39mnot\u001b[39;00m \u001b[39min\u001b[39;00m ioargs\u001b[39m.\u001b[39mmode:\n\u001b[1;32m    858\u001b[0m         \u001b[39m# Encoding\u001b[39;00m\n\u001b[0;32m--> 859\u001b[0m         handle \u001b[39m=\u001b[39m \u001b[39mopen\u001b[39m(\n\u001b[1;32m    860\u001b[0m             handle,\n\u001b[1;32m    861\u001b[0m             ioargs\u001b[39m.\u001b[39mmode,\n\u001b[1;32m    862\u001b[0m             encoding\u001b[39m=\u001b[39mioargs\u001b[39m.\u001b[39mencoding,\n\u001b[1;32m    863\u001b[0m             errors\u001b[39m=\u001b[39merrors,\n\u001b[1;32m    864\u001b[0m             newline\u001b[39m=\u001b[39m\u001b[39m\"\u001b[39m\u001b[39m\"\u001b[39m,\n\u001b[1;32m    865\u001b[0m         )\n\u001b[1;32m    866\u001b[0m     \u001b[39melse\u001b[39;00m:\n\u001b[1;32m    867\u001b[0m         \u001b[39m# Binary mode\u001b[39;00m\n\u001b[1;32m    868\u001b[0m         handle \u001b[39m=\u001b[39m \u001b[39mopen\u001b[39m(handle, ioargs\u001b[39m.\u001b[39mmode)\n",
      "\u001b[0;31mFileNotFoundError\u001b[0m: [Errno 2] No such file or directory: '/Users/ilanadeutsch/Desktop/predictions.csv'"
     ]
    }
   ],
   "source": [
    "# Determine tumor size in relation to classifier prediction\n",
    "predictionsPath = r'/Users/ilanadeutsch/Desktop/predictions.csv'\n",
    "predictions = pd.read_csv(predictionsPath)\n",
    "\n",
    "sizePath = r'/Users/ilanadeutsch/Desktop/tumorsizes.csv'\n",
    "sizes =  pd.read_csv(sizePath)\n",
    "\n",
    "y_size = []\n",
    "n_size = []\n",
    "\n",
    "for val1, case1 in enumerate(predictions[\"Case\"]):\n",
    "    for val2, case2 in enumerate(sizes[\"Case\"]):\n",
    "\n",
    "        if case1 in case2:\n",
    "\n",
    "            if predictions.iloc[val1,2] == predictions.iloc[val1,3]:\n",
    "                y_size.append(sizes.iloc[val2,1])\n",
    "            else:\n",
    "                n_size.append(sizes.iloc[val2,1])\n",
    "\n",
    "print(f\"Mean correctly classified tumor size: {mean(y_size)}\")\n",
    "print(f\"Mean incorrectly classified tumor size: {mean(n_size)}\")"
   ]
  }
 ],
 "metadata": {
  "kernelspec": {
   "display_name": "Python 3",
   "language": "python",
   "name": "python3"
  },
  "language_info": {
   "codemirror_mode": {
    "name": "ipython",
    "version": 3
   },
   "file_extension": ".py",
   "mimetype": "text/x-python",
   "name": "python",
   "nbconvert_exporter": "python",
   "pygments_lexer": "ipython3",
   "version": "3.11.1"
  },
  "orig_nbformat": 4,
  "vscode": {
   "interpreter": {
    "hash": "aee8b7b246df8f9039afb4144a1f6fd8d2ca17a180786b69acc140d282b71a49"
   }
  }
 },
 "nbformat": 4,
 "nbformat_minor": 2
}
